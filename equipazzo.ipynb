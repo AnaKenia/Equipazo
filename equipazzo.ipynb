{
 "cells": [
  {
   "cell_type": "code",
   "execution_count": 1,
   "id": "a82cb8f2",
   "metadata": {
    "_cell_guid": "b1076dfc-b9ad-4769-8c92-a6c4dae69d19",
    "_uuid": "8f2839f25d086af736a60e9eeb907d3b93b6e0e5",
    "execution": {
     "iopub.execute_input": "2022-03-13T04:31:33.772333Z",
     "iopub.status.busy": "2022-03-13T04:31:33.771102Z",
     "iopub.status.idle": "2022-03-13T04:31:33.775840Z",
     "shell.execute_reply": "2022-03-13T04:31:33.776609Z",
     "shell.execute_reply.started": "2022-03-13T04:18:36.035664Z"
    },
    "papermill": {
     "duration": 0.030209,
     "end_time": "2022-03-13T04:31:33.777135",
     "exception": false,
     "start_time": "2022-03-13T04:31:33.746926",
     "status": "completed"
    },
    "tags": []
   },
   "outputs": [],
   "source": [
    "# This Python 3 environment comes with many helpful analytics libraries installed\n",
    "# It is defined by the kaggle/python Docker image: https://github.com/kaggle/docker-python\n",
    "# For example, here's several helpful packages to load\n",
    "\n",
    "import numpy as np # linear algebra\n",
    "import pandas as pd # data processing, CSV file I/O (e.g. pd.read_csv)\n",
    "\n",
    "# Input data files are available in the read-only \"../input/\" directory\n",
    "# For example, running this (by clicking run or pressing Shift+Enter) will list all files under the input directory\n",
    "\n",
    "import os\n",
    "#for dirname, _, filenames in os.walk('/kaggle/input'):\n",
    "#    for filename in filenames:\n",
    "#        print(os.path.join(dirname, filename))\n",
    "\n",
    "# You can write up to 20GB to the current directory (/kaggle/working/) that gets preserved as output when you create a version using \"Save & Run All\" \n",
    "# You can also write temporary files to /kaggle/temp/, but they won't be saved outside of the current session"
   ]
  },
  {
   "cell_type": "code",
   "execution_count": 2,
   "id": "47763613",
   "metadata": {
    "execution": {
     "iopub.execute_input": "2022-03-13T04:31:33.810255Z",
     "iopub.status.busy": "2022-03-13T04:31:33.808035Z",
     "iopub.status.idle": "2022-03-13T04:31:35.164891Z",
     "shell.execute_reply": "2022-03-13T04:31:35.164269Z",
     "shell.execute_reply.started": "2022-03-13T04:18:36.059854Z"
    },
    "papermill": {
     "duration": 1.371902,
     "end_time": "2022-03-13T04:31:35.165034",
     "exception": false,
     "start_time": "2022-03-13T04:31:33.793132",
     "status": "completed"
    },
    "tags": []
   },
   "outputs": [],
   "source": [
    "from pathlib import Path\n",
    "import pandas as pd\n",
    "import matplotlib.pyplot as plt\n",
    "import seaborn as sns\n",
    "from sklearn.linear_model import LinearRegression"
   ]
  },
  {
   "cell_type": "code",
   "execution_count": 3,
   "id": "9d1b0d59",
   "metadata": {
    "execution": {
     "iopub.execute_input": "2022-03-13T04:31:35.194524Z",
     "iopub.status.busy": "2022-03-13T04:31:35.193861Z",
     "iopub.status.idle": "2022-03-13T04:31:35.450525Z",
     "shell.execute_reply": "2022-03-13T04:31:35.451011Z",
     "shell.execute_reply.started": "2022-03-13T04:18:37.292514Z"
    },
    "papermill": {
     "duration": 0.275505,
     "end_time": "2022-03-13T04:31:35.451180",
     "exception": false,
     "start_time": "2022-03-13T04:31:35.175675",
     "status": "completed"
    },
    "tags": []
   },
   "outputs": [
    {
     "name": "stdout",
     "output_type": "stream",
     "text": [
      "Total entries train set:  5490\n"
     ]
    },
    {
     "data": {
      "text/html": [
       "<div>\n",
       "<style scoped>\n",
       "    .dataframe tbody tr th:only-of-type {\n",
       "        vertical-align: middle;\n",
       "    }\n",
       "\n",
       "    .dataframe tbody tr th {\n",
       "        vertical-align: top;\n",
       "    }\n",
       "\n",
       "    .dataframe thead th {\n",
       "        text-align: right;\n",
       "    }\n",
       "</style>\n",
       "<table border=\"1\" class=\"dataframe\">\n",
       "  <thead>\n",
       "    <tr style=\"text-align: right;\">\n",
       "      <th></th>\n",
       "      <th>date</th>\n",
       "      <th>T_AMB</th>\n",
       "      <th>P_AMB</th>\n",
       "      <th>CMP_SPEED</th>\n",
       "      <th>CDP</th>\n",
       "      <th>GGDP</th>\n",
       "      <th>HPT_IT</th>\n",
       "      <th>CDT</th>\n",
       "      <th>LPT_IT</th>\n",
       "      <th>EXH_T</th>\n",
       "      <th>RH</th>\n",
       "      <th>WAR</th>\n",
       "      <th>POWER</th>\n",
       "    </tr>\n",
       "  </thead>\n",
       "  <tbody>\n",
       "    <tr>\n",
       "      <th>0</th>\n",
       "      <td>2021-01-01</td>\n",
       "      <td>1.450440</td>\n",
       "      <td>0.843522</td>\n",
       "      <td>0.000000</td>\n",
       "      <td>0.843522</td>\n",
       "      <td>0.843522</td>\n",
       "      <td>NaN</td>\n",
       "      <td>1.450440</td>\n",
       "      <td>NaN</td>\n",
       "      <td>NaN</td>\n",
       "      <td>81.237441</td>\n",
       "      <td>0.000041</td>\n",
       "      <td>NaN</td>\n",
       "    </tr>\n",
       "    <tr>\n",
       "      <th>1</th>\n",
       "      <td>2021-01-02</td>\n",
       "      <td>2.761142</td>\n",
       "      <td>0.843856</td>\n",
       "      <td>7870.729713</td>\n",
       "      <td>7.907587</td>\n",
       "      <td>2.448490</td>\n",
       "      <td>949.263690</td>\n",
       "      <td>258.933367</td>\n",
       "      <td>625.677722</td>\n",
       "      <td>387.749872</td>\n",
       "      <td>74.311313</td>\n",
       "      <td>0.000041</td>\n",
       "      <td>13332.692409</td>\n",
       "    </tr>\n",
       "    <tr>\n",
       "      <th>2</th>\n",
       "      <td>2021-01-03</td>\n",
       "      <td>9.270325</td>\n",
       "      <td>0.843413</td>\n",
       "      <td>9898.625866</td>\n",
       "      <td>9.407523</td>\n",
       "      <td>2.816769</td>\n",
       "      <td>984.601577</td>\n",
       "      <td>338.014765</td>\n",
       "      <td>655.857137</td>\n",
       "      <td>413.039467</td>\n",
       "      <td>47.897182</td>\n",
       "      <td>0.000041</td>\n",
       "      <td>13026.684965</td>\n",
       "    </tr>\n",
       "    <tr>\n",
       "      <th>3</th>\n",
       "      <td>2021-01-04</td>\n",
       "      <td>14.293265</td>\n",
       "      <td>0.844249</td>\n",
       "      <td>9850.791469</td>\n",
       "      <td>9.121784</td>\n",
       "      <td>2.775070</td>\n",
       "      <td>1014.536922</td>\n",
       "      <td>347.129100</td>\n",
       "      <td>681.701087</td>\n",
       "      <td>434.895488</td>\n",
       "      <td>34.400729</td>\n",
       "      <td>0.000041</td>\n",
       "      <td>12773.507042</td>\n",
       "    </tr>\n",
       "    <tr>\n",
       "      <th>4</th>\n",
       "      <td>2021-01-05</td>\n",
       "      <td>12.875213</td>\n",
       "      <td>0.843663</td>\n",
       "      <td>9828.508458</td>\n",
       "      <td>9.138088</td>\n",
       "      <td>2.776577</td>\n",
       "      <td>1008.503746</td>\n",
       "      <td>344.360211</td>\n",
       "      <td>677.018748</td>\n",
       "      <td>431.268990</td>\n",
       "      <td>37.537882</td>\n",
       "      <td>0.000041</td>\n",
       "      <td>12768.092781</td>\n",
       "    </tr>\n",
       "  </tbody>\n",
       "</table>\n",
       "</div>"
      ],
      "text/plain": [
       "         date      T_AMB     P_AMB    CMP_SPEED       CDP      GGDP  \\\n",
       "0  2021-01-01   1.450440  0.843522     0.000000  0.843522  0.843522   \n",
       "1  2021-01-02   2.761142  0.843856  7870.729713  7.907587  2.448490   \n",
       "2  2021-01-03   9.270325  0.843413  9898.625866  9.407523  2.816769   \n",
       "3  2021-01-04  14.293265  0.844249  9850.791469  9.121784  2.775070   \n",
       "4  2021-01-05  12.875213  0.843663  9828.508458  9.138088  2.776577   \n",
       "\n",
       "        HPT_IT         CDT      LPT_IT       EXH_T         RH       WAR  \\\n",
       "0          NaN    1.450440         NaN         NaN  81.237441  0.000041   \n",
       "1   949.263690  258.933367  625.677722  387.749872  74.311313  0.000041   \n",
       "2   984.601577  338.014765  655.857137  413.039467  47.897182  0.000041   \n",
       "3  1014.536922  347.129100  681.701087  434.895488  34.400729  0.000041   \n",
       "4  1008.503746  344.360211  677.018748  431.268990  37.537882  0.000041   \n",
       "\n",
       "          POWER  \n",
       "0           NaN  \n",
       "1  13332.692409  \n",
       "2  13026.684965  \n",
       "3  12773.507042  \n",
       "4  12768.092781  "
      ]
     },
     "execution_count": 3,
     "metadata": {},
     "output_type": "execute_result"
    }
   ],
   "source": [
    "# Emtpy data frame \n",
    "df = pd.DataFrame()\n",
    "\n",
    "# Read all files and create a unique data frame containing all info, for train set\n",
    "for i in range(1,15+1):\n",
    "    file = '../input/48fe736d-d85a-4e97-b362-5f045be3c5ec/train/data_0{}.csv'.format(i)\n",
    "    df_new = pd.read_csv(file)\n",
    "    df = df.append(df_new,ignore_index=True)\n",
    "\n",
    "print('Total entries train set: ',len(df))\n",
    "df.head()"
   ]
  },
  {
   "cell_type": "code",
   "execution_count": 4,
   "id": "72720ea7",
   "metadata": {
    "execution": {
     "iopub.execute_input": "2022-03-13T04:31:35.478392Z",
     "iopub.status.busy": "2022-03-13T04:31:35.476254Z",
     "iopub.status.idle": "2022-03-13T04:31:35.507460Z",
     "shell.execute_reply": "2022-03-13T04:31:35.507962Z",
     "shell.execute_reply.started": "2022-03-13T04:18:37.494301Z"
    },
    "papermill": {
     "duration": 0.045442,
     "end_time": "2022-03-13T04:31:35.508142",
     "exception": false,
     "start_time": "2022-03-13T04:31:35.462700",
     "status": "completed"
    },
    "tags": []
   },
   "outputs": [
    {
     "name": "stdout",
     "output_type": "stream",
     "text": [
      "Total entries test set:  366\n"
     ]
    },
    {
     "data": {
      "text/html": [
       "<div>\n",
       "<style scoped>\n",
       "    .dataframe tbody tr th:only-of-type {\n",
       "        vertical-align: middle;\n",
       "    }\n",
       "\n",
       "    .dataframe tbody tr th {\n",
       "        vertical-align: top;\n",
       "    }\n",
       "\n",
       "    .dataframe thead th {\n",
       "        text-align: right;\n",
       "    }\n",
       "</style>\n",
       "<table border=\"1\" class=\"dataframe\">\n",
       "  <thead>\n",
       "    <tr style=\"text-align: right;\">\n",
       "      <th></th>\n",
       "      <th>date</th>\n",
       "      <th>T_AMB</th>\n",
       "      <th>P_AMB</th>\n",
       "      <th>CMP_SPEED</th>\n",
       "      <th>CDP</th>\n",
       "      <th>GGDP</th>\n",
       "      <th>HPT_IT</th>\n",
       "      <th>CDT</th>\n",
       "      <th>LPT_IT</th>\n",
       "      <th>EXH_T</th>\n",
       "      <th>RH</th>\n",
       "      <th>WAR</th>\n",
       "    </tr>\n",
       "  </thead>\n",
       "  <tbody>\n",
       "    <tr>\n",
       "      <th>0</th>\n",
       "      <td>2021-01-01</td>\n",
       "      <td>0.721750</td>\n",
       "      <td>1.001484</td>\n",
       "      <td>6637.409665</td>\n",
       "      <td>5.832015</td>\n",
       "      <td>2.416738</td>\n",
       "      <td>1099.669907</td>\n",
       "      <td>275.264798</td>\n",
       "      <td>825.126859</td>\n",
       "      <td>605.488705</td>\n",
       "      <td>100.000000</td>\n",
       "      <td>0.000040</td>\n",
       "    </tr>\n",
       "    <tr>\n",
       "      <th>1</th>\n",
       "      <td>2021-01-02</td>\n",
       "      <td>1.620703</td>\n",
       "      <td>1.001503</td>\n",
       "      <td>6655.303505</td>\n",
       "      <td>5.836681</td>\n",
       "      <td>2.417710</td>\n",
       "      <td>1104.272571</td>\n",
       "      <td>277.170383</td>\n",
       "      <td>828.722891</td>\n",
       "      <td>608.297352</td>\n",
       "      <td>99.855070</td>\n",
       "      <td>0.000043</td>\n",
       "    </tr>\n",
       "    <tr>\n",
       "      <th>2</th>\n",
       "      <td>2021-01-03</td>\n",
       "      <td>3.749595</td>\n",
       "      <td>1.001464</td>\n",
       "      <td>6543.075166</td>\n",
       "      <td>5.623416</td>\n",
       "      <td>2.373094</td>\n",
       "      <td>1124.078913</td>\n",
       "      <td>278.159658</td>\n",
       "      <td>849.668850</td>\n",
       "      <td>629.152504</td>\n",
       "      <td>91.417221</td>\n",
       "      <td>0.000045</td>\n",
       "    </tr>\n",
       "    <tr>\n",
       "      <th>3</th>\n",
       "      <td>2021-01-04</td>\n",
       "      <td>5.191938</td>\n",
       "      <td>1.001513</td>\n",
       "      <td>6613.171548</td>\n",
       "      <td>5.688147</td>\n",
       "      <td>2.386764</td>\n",
       "      <td>1128.688645</td>\n",
       "      <td>282.134434</td>\n",
       "      <td>851.746149</td>\n",
       "      <td>629.516608</td>\n",
       "      <td>81.896271</td>\n",
       "      <td>0.000045</td>\n",
       "    </tr>\n",
       "    <tr>\n",
       "      <th>4</th>\n",
       "      <td>2021-01-05</td>\n",
       "      <td>4.352311</td>\n",
       "      <td>1.001577</td>\n",
       "      <td>5512.789368</td>\n",
       "      <td>4.925938</td>\n",
       "      <td>2.159933</td>\n",
       "      <td>1124.503274</td>\n",
       "      <td>234.921546</td>\n",
       "      <td>847.820191</td>\n",
       "      <td>625.910410</td>\n",
       "      <td>86.960921</td>\n",
       "      <td>0.000045</td>\n",
       "    </tr>\n",
       "  </tbody>\n",
       "</table>\n",
       "</div>"
      ],
      "text/plain": [
       "         date     T_AMB     P_AMB    CMP_SPEED       CDP      GGDP  \\\n",
       "0  2021-01-01  0.721750  1.001484  6637.409665  5.832015  2.416738   \n",
       "1  2021-01-02  1.620703  1.001503  6655.303505  5.836681  2.417710   \n",
       "2  2021-01-03  3.749595  1.001464  6543.075166  5.623416  2.373094   \n",
       "3  2021-01-04  5.191938  1.001513  6613.171548  5.688147  2.386764   \n",
       "4  2021-01-05  4.352311  1.001577  5512.789368  4.925938  2.159933   \n",
       "\n",
       "        HPT_IT         CDT      LPT_IT       EXH_T          RH       WAR  \n",
       "0  1099.669907  275.264798  825.126859  605.488705  100.000000  0.000040  \n",
       "1  1104.272571  277.170383  828.722891  608.297352   99.855070  0.000043  \n",
       "2  1124.078913  278.159658  849.668850  629.152504   91.417221  0.000045  \n",
       "3  1128.688645  282.134434  851.746149  629.516608   81.896271  0.000045  \n",
       "4  1124.503274  234.921546  847.820191  625.910410   86.960921  0.000045  "
      ]
     },
     "execution_count": 4,
     "metadata": {},
     "output_type": "execute_result"
    }
   ],
   "source": [
    "# Read file for test set\n",
    "file = '../input/48fe736d-d85a-4e97-b362-5f045be3c5ec/test/test_data_123.csv'\n",
    "df_test = pd.read_csv(file) \n",
    "\n",
    "print('Total entries test set: ', len(df_test))\n",
    "df_test.head()"
   ]
  },
  {
   "cell_type": "code",
   "execution_count": 5,
   "id": "a9c576ec",
   "metadata": {
    "execution": {
     "iopub.execute_input": "2022-03-13T04:31:35.535788Z",
     "iopub.status.busy": "2022-03-13T04:31:35.535209Z",
     "iopub.status.idle": "2022-03-13T04:31:35.545066Z",
     "shell.execute_reply": "2022-03-13T04:31:35.545544Z",
     "shell.execute_reply.started": "2022-03-13T04:18:37.523554Z"
    },
    "papermill": {
     "duration": 0.025481,
     "end_time": "2022-03-13T04:31:35.545721",
     "exception": false,
     "start_time": "2022-03-13T04:31:35.520240",
     "status": "completed"
    },
    "tags": []
   },
   "outputs": [],
   "source": [
    "# Set index as date so we don't have to deal with it\n",
    "df = df.set_index('date')\n",
    "df_test = df_test.set_index('date')"
   ]
  },
  {
   "cell_type": "code",
   "execution_count": 6,
   "id": "19e7d2f6",
   "metadata": {
    "execution": {
     "iopub.execute_input": "2022-03-13T04:31:35.573448Z",
     "iopub.status.busy": "2022-03-13T04:31:35.572793Z",
     "iopub.status.idle": "2022-03-13T04:31:35.576937Z",
     "shell.execute_reply": "2022-03-13T04:31:35.577390Z",
     "shell.execute_reply.started": "2022-03-13T04:18:37.534438Z"
    },
    "papermill": {
     "duration": 0.019886,
     "end_time": "2022-03-13T04:31:35.577553",
     "exception": false,
     "start_time": "2022-03-13T04:31:35.557667",
     "status": "completed"
    },
    "tags": []
   },
   "outputs": [],
   "source": [
    "# Handling missing values of df and df_test\n",
    "df.fillna(0, inplace = True)\n",
    "df_test.fillna(0, inplace = True)"
   ]
  },
  {
   "cell_type": "code",
   "execution_count": 7,
   "id": "820a624c",
   "metadata": {
    "execution": {
     "iopub.execute_input": "2022-03-13T04:31:35.604266Z",
     "iopub.status.busy": "2022-03-13T04:31:35.603652Z",
     "iopub.status.idle": "2022-03-13T04:31:35.617725Z",
     "shell.execute_reply": "2022-03-13T04:31:35.618245Z",
     "shell.execute_reply.started": "2022-03-13T04:18:37.541291Z"
    },
    "papermill": {
     "duration": 0.029032,
     "end_time": "2022-03-13T04:31:35.618415",
     "exception": false,
     "start_time": "2022-03-13T04:31:35.589383",
     "status": "completed"
    },
    "tags": []
   },
   "outputs": [],
   "source": [
    "# Features for best fit.\n",
    "# Display relation to turbine or ambient\n",
    "var = pd.DataFrame(df.columns)\n",
    "dicti = {'date': 0, 'T_AMB': 0, 'P_AMB': 0, 'CMP_SPEED': 1, 'CDP': 1, 'GGDP': 1, \\\n",
    "          'HPT_IT': 1, 'CDT': 1, 'LPT_IT': 1, 'EXH_T': 1, 'RH': 0, 'WAR': 0, 'POWER': 1}\n",
    "# Map values\n",
    "var['rel'] = var[0].map(dicti)\n",
    "# Extract only var with rel to turbine\n",
    "var = var[var['rel'] == 1]\n",
    "# Omit power of course\n",
    "var = var[:-1]\n",
    "high_corr = list(var[0])\n",
    "# Remove T bc related to P\n",
    "high_corr.remove('CDT') "
   ]
  },
  {
   "cell_type": "code",
   "execution_count": 8,
   "id": "6eb7a263",
   "metadata": {
    "execution": {
     "iopub.execute_input": "2022-03-13T04:31:35.645891Z",
     "iopub.status.busy": "2022-03-13T04:31:35.645223Z",
     "iopub.status.idle": "2022-03-13T04:31:35.676099Z",
     "shell.execute_reply": "2022-03-13T04:31:35.676941Z",
     "shell.execute_reply.started": "2022-03-13T04:18:37.557318Z"
    },
    "papermill": {
     "duration": 0.046827,
     "end_time": "2022-03-13T04:31:35.677228",
     "exception": false,
     "start_time": "2022-03-13T04:31:35.630401",
     "status": "completed"
    },
    "tags": []
   },
   "outputs": [
    {
     "data": {
      "text/plain": [
       "LinearRegression()"
      ]
     },
     "execution_count": 8,
     "metadata": {},
     "output_type": "execute_result"
    }
   ],
   "source": [
    "\"\"\"\"All train set\"\"\"\n",
    "\n",
    "# Split feature and target variable\n",
    "x = df[high_corr]\n",
    "y = df['POWER']\n",
    "\n",
    "# Initialize a Linear Reggression model\n",
    "linreg = LinearRegression()\n",
    "\n",
    "# Fit (train) linreg to the train set\n",
    "linreg.fit(x, y) "
   ]
  },
  {
   "cell_type": "code",
   "execution_count": 9,
   "id": "c6c5b803",
   "metadata": {
    "execution": {
     "iopub.execute_input": "2022-03-13T04:31:35.720350Z",
     "iopub.status.busy": "2022-03-13T04:31:35.719394Z",
     "iopub.status.idle": "2022-03-13T04:31:35.723189Z",
     "shell.execute_reply": "2022-03-13T04:31:35.723609Z",
     "shell.execute_reply.started": "2022-03-13T04:18:37.590852Z"
    },
    "papermill": {
     "duration": 0.033327,
     "end_time": "2022-03-13T04:31:35.723778",
     "exception": false,
     "start_time": "2022-03-13T04:31:35.690451",
     "status": "completed"
    },
    "tags": []
   },
   "outputs": [
    {
     "data": {
      "text/html": [
       "<div>\n",
       "<style scoped>\n",
       "    .dataframe tbody tr th:only-of-type {\n",
       "        vertical-align: middle;\n",
       "    }\n",
       "\n",
       "    .dataframe tbody tr th {\n",
       "        vertical-align: top;\n",
       "    }\n",
       "\n",
       "    .dataframe thead th {\n",
       "        text-align: right;\n",
       "    }\n",
       "</style>\n",
       "<table border=\"1\" class=\"dataframe\">\n",
       "  <thead>\n",
       "    <tr style=\"text-align: right;\">\n",
       "      <th></th>\n",
       "      <th>0</th>\n",
       "    </tr>\n",
       "  </thead>\n",
       "  <tbody>\n",
       "    <tr>\n",
       "      <th>0</th>\n",
       "      <td>8164.113202</td>\n",
       "    </tr>\n",
       "    <tr>\n",
       "      <th>1</th>\n",
       "      <td>8191.732479</td>\n",
       "    </tr>\n",
       "    <tr>\n",
       "      <th>2</th>\n",
       "      <td>7880.761424</td>\n",
       "    </tr>\n",
       "    <tr>\n",
       "      <th>3</th>\n",
       "      <td>8023.119621</td>\n",
       "    </tr>\n",
       "    <tr>\n",
       "      <th>4</th>\n",
       "      <td>8072.597262</td>\n",
       "    </tr>\n",
       "  </tbody>\n",
       "</table>\n",
       "</div>"
      ],
      "text/plain": [
       "             0\n",
       "0  8164.113202\n",
       "1  8191.732479\n",
       "2  7880.761424\n",
       "3  8023.119621\n",
       "4  8072.597262"
      ]
     },
     "execution_count": 9,
     "metadata": {},
     "output_type": "execute_result"
    }
   ],
   "source": [
    "# Predictions using the test set\n",
    "df_test = df_test[high_corr]\n",
    "\n",
    "y_pred = linreg.predict(df_test)\n",
    "y_pred = pd.DataFrame(y_pred)\n",
    "\n",
    "y_pred.head()"
   ]
  },
  {
   "cell_type": "code",
   "execution_count": 10,
   "id": "d5b6139d",
   "metadata": {
    "execution": {
     "iopub.execute_input": "2022-03-13T04:31:35.762108Z",
     "iopub.status.busy": "2022-03-13T04:31:35.761229Z",
     "iopub.status.idle": "2022-03-13T04:31:35.764888Z",
     "shell.execute_reply": "2022-03-13T04:31:35.765292Z",
     "shell.execute_reply.started": "2022-03-13T04:18:37.611625Z"
    },
    "papermill": {
     "duration": 0.028438,
     "end_time": "2022-03-13T04:31:35.765455",
     "exception": false,
     "start_time": "2022-03-13T04:31:35.737017",
     "status": "completed"
    },
    "tags": []
   },
   "outputs": [
    {
     "data": {
      "text/html": [
       "<div>\n",
       "<style scoped>\n",
       "    .dataframe tbody tr th:only-of-type {\n",
       "        vertical-align: middle;\n",
       "    }\n",
       "\n",
       "    .dataframe tbody tr th {\n",
       "        vertical-align: top;\n",
       "    }\n",
       "\n",
       "    .dataframe thead th {\n",
       "        text-align: right;\n",
       "    }\n",
       "</style>\n",
       "<table border=\"1\" class=\"dataframe\">\n",
       "  <thead>\n",
       "    <tr style=\"text-align: right;\">\n",
       "      <th></th>\n",
       "      <th>date</th>\n",
       "      <th>POWER</th>\n",
       "    </tr>\n",
       "  </thead>\n",
       "  <tbody>\n",
       "    <tr>\n",
       "      <th>0</th>\n",
       "      <td>2021-01-01</td>\n",
       "      <td>8164.113202</td>\n",
       "    </tr>\n",
       "    <tr>\n",
       "      <th>1</th>\n",
       "      <td>2021-01-02</td>\n",
       "      <td>8191.732479</td>\n",
       "    </tr>\n",
       "    <tr>\n",
       "      <th>2</th>\n",
       "      <td>2021-01-03</td>\n",
       "      <td>7880.761424</td>\n",
       "    </tr>\n",
       "    <tr>\n",
       "      <th>3</th>\n",
       "      <td>2021-01-04</td>\n",
       "      <td>8023.119621</td>\n",
       "    </tr>\n",
       "    <tr>\n",
       "      <th>4</th>\n",
       "      <td>2021-01-05</td>\n",
       "      <td>8072.597262</td>\n",
       "    </tr>\n",
       "  </tbody>\n",
       "</table>\n",
       "</div>"
      ],
      "text/plain": [
       "         date        POWER\n",
       "0  2021-01-01  8164.113202\n",
       "1  2021-01-02  8191.732479\n",
       "2  2021-01-03  7880.761424\n",
       "3  2021-01-04  8023.119621\n",
       "4  2021-01-05  8072.597262"
      ]
     },
     "execution_count": 10,
     "metadata": {},
     "output_type": "execute_result"
    }
   ],
   "source": [
    "# Let's add dates\n",
    "y_pred['date'] = df_test.index # take dates from original test set\n",
    "y_pred.columns =  ['POWER', 'date'] # rename cols names\n",
    "y_pred = y_pred[['date','POWER']] # rearrange cols\n",
    "\n",
    "y_pred.head()"
   ]
  },
  {
   "cell_type": "code",
   "execution_count": 11,
   "id": "7a0f7d4e",
   "metadata": {
    "execution": {
     "iopub.execute_input": "2022-03-13T04:31:35.796103Z",
     "iopub.status.busy": "2022-03-13T04:31:35.794444Z",
     "iopub.status.idle": "2022-03-13T04:31:35.801983Z",
     "shell.execute_reply": "2022-03-13T04:31:35.802461Z",
     "shell.execute_reply.started": "2022-03-13T04:21:24.40171Z"
    },
    "papermill": {
     "duration": 0.024206,
     "end_time": "2022-03-13T04:31:35.802626",
     "exception": false,
     "start_time": "2022-03-13T04:31:35.778420",
     "status": "completed"
    },
    "tags": []
   },
   "outputs": [],
   "source": [
    "# Fix later on dates bc backwards\n",
    "y_pred.to_csv('./eng_site_all.csv', index = False)"
   ]
  },
  {
   "cell_type": "code",
   "execution_count": 12,
   "id": "0f7a69b3",
   "metadata": {
    "execution": {
     "iopub.execute_input": "2022-03-13T04:31:35.831992Z",
     "iopub.status.busy": "2022-03-13T04:31:35.831343Z",
     "iopub.status.idle": "2022-03-13T04:31:35.834045Z",
     "shell.execute_reply": "2022-03-13T04:31:35.834480Z",
     "shell.execute_reply.started": "2022-03-13T04:18:37.646659Z"
    },
    "papermill": {
     "duration": 0.018787,
     "end_time": "2022-03-13T04:31:35.834637",
     "exception": false,
     "start_time": "2022-03-13T04:31:35.815850",
     "status": "completed"
    },
    "tags": []
   },
   "outputs": [],
   "source": [
    "# Coeff\n",
    "inter = linreg.intercept_\n",
    "coef = linreg.coef_\n"
   ]
  }
 ],
 "metadata": {
  "kernelspec": {
   "display_name": "Python 3",
   "language": "python",
   "name": "python3"
  },
  "language_info": {
   "codemirror_mode": {
    "name": "ipython",
    "version": 3
   },
   "file_extension": ".py",
   "mimetype": "text/x-python",
   "name": "python",
   "nbconvert_exporter": "python",
   "pygments_lexer": "ipython3",
   "version": "3.7.12"
  },
  "papermill": {
   "default_parameters": {},
   "duration": 11.890235,
   "end_time": "2022-03-13T04:31:36.559465",
   "environment_variables": {},
   "exception": null,
   "input_path": "__notebook__.ipynb",
   "output_path": "__notebook__.ipynb",
   "parameters": {},
   "start_time": "2022-03-13T04:31:24.669230",
   "version": "2.3.3"
  }
 },
 "nbformat": 4,
 "nbformat_minor": 5
}
